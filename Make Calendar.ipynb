{
 "cells": [
  {
   "cell_type": "markdown",
   "id": "fc0aff7c-aeee-4211-918f-8c007b2afb52",
   "metadata": {},
   "source": [
    "### 달력 만들기"
   ]
  },
  {
   "cell_type": "code",
   "execution_count": 14,
   "id": "2b3ad874-b46e-4d60-b85f-7cac1b0974f4",
   "metadata": {},
   "outputs": [],
   "source": [
    "def isLeapYear(year):\n",
    "    return year % 4 ==0 and year % 100 != 0 or year % 400 ==0"
   ]
  },
  {
   "cell_type": "code",
   "execution_count": 15,
   "id": "f2913103-9497-4723-9421-a7899d712b36",
   "metadata": {},
   "outputs": [],
   "source": [
    "def lastDay(year, month):\n",
    "    m = [31,28,31,30,31,30,31,31,30,31,30,31]\n",
    "    m[1] = 29 if isLeapYear(year) else 28\n",
    "    return m[month -1]"
   ]
  },
  {
   "cell_type": "code",
   "execution_count": 16,
   "id": "115aa0cc-e887-4c11-9dee-33d51989af2b",
   "metadata": {},
   "outputs": [],
   "source": [
    "def totalDay(year, month, day):\n",
    "    total = (year-1) * 365 + (year-1)//4 - (year-1)//100 + (year-1)//400\n",
    "    for i in range(1, month):\n",
    "        total += lastDay(year, i)\n",
    "    return total + day"
   ]
  },
  {
   "cell_type": "code",
   "execution_count": 17,
   "id": "8250d51f-9ab1-44c5-88b1-ef7573aca3a4",
   "metadata": {},
   "outputs": [],
   "source": [
    "def weekDay(year, month, day):\n",
    "    return totalDay(year, month, day) %7"
   ]
  },
  {
   "cell_type": "code",
   "execution_count": 18,
   "id": "393b16e0-4b42-4958-86c0-cbf9c126149a",
   "metadata": {},
   "outputs": [
    {
     "name": "stdin",
     "output_type": "stream",
     "text": [
      "달력을 출력할 연도 입력:  2022\n"
     ]
    }
   ],
   "source": [
    "year= int(input('달력을 출력할 연도 입력: '))"
   ]
  },
  {
   "cell_type": "code",
   "execution_count": 19,
   "id": "9f226b30-b648-4f78-8cf9-779897cea82e",
   "metadata": {},
   "outputs": [
    {
     "name": "stdin",
     "output_type": "stream",
     "text": [
      "달력을 출력할 월 입력:  5\n"
     ]
    }
   ],
   "source": [
    "month = int(input('달력을 출력할 월 입력: '))"
   ]
  },
  {
   "cell_type": "code",
   "execution_count": 25,
   "id": "b415b998-6570-4b47-9bb2-59005b86f0f6",
   "metadata": {},
   "outputs": [
    {
     "name": "stdout",
     "output_type": "stream",
     "text": [
      "       < 2022년 5월 >\n",
      "===========================\n",
      " 일  월  화  수  목  금  토 \n",
      "  1   2   3   4   5   6   7 \n",
      "  8   9  10  11  12  13  14 \n",
      " 15  16  17  18  19  20  21 \n",
      " 22  23  24  25  26  27  28 \n",
      " 29  30  31 "
     ]
    }
   ],
   "source": [
    "print(f'       < {year}년 {month}월 >')\n",
    "print('='*27)\n",
    "print(' 일  월  화  수  목  금  토 ')\n",
    "\n",
    "for i in range(weekDay(year,month, 1)):\n",
    "    print('    ', end = '') \n",
    "    \n",
    "for i in range(1, lastDay(year, month)+1):\n",
    "    print(' {0:2d} '.format(i), end = '') \n",
    "    if weekDay(year,month, i) == 6 and lastDay(year, month) != i:\n",
    "        print()\n"
   ]
  },
  {
   "cell_type": "code",
   "execution_count": null,
   "id": "6240bd4d-6c1c-4c2f-8674-a8e6f3155198",
   "metadata": {},
   "outputs": [],
   "source": []
  },
  {
   "cell_type": "markdown",
   "id": "1d6319e1-d41e-4577-b3b6-d7945ce2547f",
   "metadata": {},
   "source": [
    "### 음력 추출"
   ]
  },
  {
   "cell_type": "code",
   "execution_count": 36,
   "id": "0ae2f187-9254-465d-89fe-76d2d77cc43a",
   "metadata": {},
   "outputs": [
    {
     "name": "stdout",
     "output_type": "stream",
     "text": [
      "Collecting korean_lunar_calendar\n",
      "  Downloading korean_lunar_calendar-0.2.1-py3-none-any.whl (8.0 kB)\n",
      "Installing collected packages: korean-lunar-calendar\n",
      "Successfully installed korean-lunar-calendar-0.2.1\n"
     ]
    }
   ],
   "source": [
    "!pip install korean_lunar_calendar"
   ]
  },
  {
   "cell_type": "code",
   "execution_count": 27,
   "id": "999fb949-7ead-4ce2-bfaf-361fc66668da",
   "metadata": {},
   "outputs": [],
   "source": [
    "from korean_lunar_calendar import KoreanLunarCalendar"
   ]
  },
  {
   "cell_type": "code",
   "execution_count": 28,
   "id": "826f34a1-7b18-4d50-a387-23ea56cd069a",
   "metadata": {},
   "outputs": [
    {
     "name": "stdin",
     "output_type": "stream",
     "text": [
      "양력날짜을 입력하세요 \n",
      " 년도:  2022\n"
     ]
    }
   ],
   "source": [
    "year= int(input('양력날짜을 입력하세요 \\n 년도: '))"
   ]
  },
  {
   "cell_type": "code",
   "execution_count": 29,
   "id": "54112e61-5d3a-428e-bc64-46756c2d7017",
   "metadata": {},
   "outputs": [
    {
     "name": "stdin",
     "output_type": "stream",
     "text": [
      "월:  5\n"
     ]
    }
   ],
   "source": [
    "month = int(input('월: '))"
   ]
  },
  {
   "cell_type": "code",
   "execution_count": 30,
   "id": "822c9a25-4ec3-4ffb-a774-82a8376e4b09",
   "metadata": {},
   "outputs": [
    {
     "name": "stdin",
     "output_type": "stream",
     "text": [
      "일:  10\n"
     ]
    }
   ],
   "source": [
    "date = int(input('일: '))"
   ]
  },
  {
   "cell_type": "code",
   "execution_count": 33,
   "id": "102aec77-7a17-44a9-9295-e651d367c612",
   "metadata": {},
   "outputs": [
    {
     "name": "stdout",
     "output_type": "stream",
     "text": [
      "검색결과:(양력): 2022-5-10\n",
      "         음력: 2022-04-10 \n",
      "\n"
     ]
    }
   ],
   "source": [
    "K_calendar = KoreanLunarCalendar()\n",
    "K_calendar.setSolarDate(year,month,date)\n",
    "K_calendar = K_calendar.LunarIsoFormat()\n",
    "\n",
    "print(f'검색결과:(양력): {year}-{month}-{date}')\n",
    "print(f'         음력: {K_calendar} \\n')\n"
   ]
  }
 ],
 "metadata": {
  "kernelspec": {
   "display_name": "Python 3 (ipykernel)",
   "language": "python",
   "name": "python3"
  },
  "language_info": {
   "codemirror_mode": {
    "name": "ipython",
    "version": 3
   },
   "file_extension": ".py",
   "mimetype": "text/x-python",
   "name": "python",
   "nbconvert_exporter": "python",
   "pygments_lexer": "ipython3",
   "version": "3.9.7"
  }
 },
 "nbformat": 4,
 "nbformat_minor": 5
}
